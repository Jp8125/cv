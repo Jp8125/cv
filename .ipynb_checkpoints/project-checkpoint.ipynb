{
 "cells": [
  {
   "cell_type": "code",
   "execution_count": 2,
   "id": "b11a248f",
   "metadata": {},
   "outputs": [],
   "source": [
    "import cv2 as cv\n",
    "from matplotlib import pyplot as plt\n",
    "import numpy as np"
   ]
  },
  {
   "cell_type": "code",
   "execution_count": 28,
   "id": "f6e57118",
   "metadata": {},
   "outputs": [],
   "source": [
    "img1=cv.imread('prj.jpg',0)\n",
    "img = cv.imread('prj.jpg')"
   ]
  },
  {
   "cell_type": "code",
   "execution_count": null,
   "id": "1347f247",
   "metadata": {},
   "outputs": [],
   "source": []
  },
  {
   "cell_type": "code",
   "execution_count": 31,
   "id": "39c66c20",
   "metadata": {},
   "outputs": [],
   "source": [
    "kernel=np.array([[0,-1,0],\n",
    "                [-1,5,-1],\n",
    "                [0,-1,0]])\n",
    "c_img=cv.filter2D(src=img1,ddepth=-1,kernel=kernel)"
   ]
  },
  {
   "cell_type": "code",
   "execution_count": 32,
   "id": "f90714b2",
   "metadata": {},
   "outputs": [],
   "source": [
    "cv.imshow('image1',c_img)\n",
    "cv.waitKey(0)\n",
    "cv.destroyAllWindows()"
   ]
  },
  {
   "cell_type": "code",
   "execution_count": 34,
   "id": "63245698",
   "metadata": {},
   "outputs": [],
   "source": [
    "corners = cv.goodFeaturesToTrack(c_img,20,0.01,10)\n",
    "corners = np.int0(corners) \n",
    "for i in corners:\n",
    "    x,y = i.ravel()\n",
    "    cv.circle(img1,(x,y),3,255,-1) \n",
    "cv.imshow('Original', c_img)\n",
    "cv.imshow('Shi-Tomasi', img1)\n",
    "cv.waitKey(0)\n",
    "cv.destroyAllWindows()"
   ]
  },
  {
   "cell_type": "code",
   "execution_count": null,
   "id": "37ba6080",
   "metadata": {},
   "outputs": [],
   "source": []
  },
  {
   "cell_type": "code",
   "execution_count": 18,
   "id": "08203f2b",
   "metadata": {},
   "outputs": [],
   "source": []
  },
  {
   "cell_type": "code",
   "execution_count": null,
   "id": "8d643092",
   "metadata": {},
   "outputs": [],
   "source": []
  }
 ],
 "metadata": {
  "kernelspec": {
   "display_name": "Python 3 (ipykernel)",
   "language": "python",
   "name": "python3"
  },
  "language_info": {
   "codemirror_mode": {
    "name": "ipython",
    "version": 3
   },
   "file_extension": ".py",
   "mimetype": "text/x-python",
   "name": "python",
   "nbconvert_exporter": "python",
   "pygments_lexer": "ipython3",
   "version": "3.9.7"
  }
 },
 "nbformat": 4,
 "nbformat_minor": 5
}
